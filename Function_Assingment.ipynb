{
 "cells": [
  {
   "cell_type": "code",
   "execution_count": 1,
   "id": "60a9c5dc-692e-4d06-96e8-2e43323cfa52",
   "metadata": {},
   "outputs": [
    {
     "name": "stdout",
     "output_type": "stream",
     "text": [
      "this is my name\n"
     ]
    }
   ],
   "source": [
    "        # THEORY QUESTIONS:\n",
    "\n",
    "\n",
    "# Q1:  What is the difference between a function and a method in Python?\n",
    "# The terms 'function' and 'method' refer to closely related but distinct concepts:\n",
    "\n",
    "# FUNCTION:\n",
    "# it is a block of code which performs some specific task/computation.\n",
    "# it is use for the codes are reusable ,neat,clean,organized,saves your time.\n",
    "# use \"return\" as well as \"print\" for execute.\n",
    "              # SYNTAX >> def func():\n",
    "# EXAMPLE:\n",
    "\n",
    "def saumya():                   # here, saumya is just only func we use.         \n",
    "    print('this is my name')     # use print.\n",
    "saumya()\n"
   ]
  },
  {
   "cell_type": "code",
   "execution_count": 2,
   "id": "3500b150-357d-4289-b32e-c797bc392b06",
   "metadata": {},
   "outputs": [
    {
     "data": {
      "text/plain": [
       "('saumya', 1, 2, 3, 4.5, True)"
      ]
     },
     "execution_count": 2,
     "metadata": {},
     "output_type": "execute_result"
    }
   ],
   "source": [
    "def func():\n",
    "    return\"saumya\",1,2,3,4.5,True             # use return.\n",
    "func()\n"
   ]
  },
  {
   "cell_type": "code",
   "execution_count": 3,
   "id": "db7ce739-4bed-470c-bf29-792cf4d5e74f",
   "metadata": {},
   "outputs": [
    {
     "data": {
      "text/plain": [
       "'ABRA KA DABRA'"
      ]
     },
     "execution_count": 3,
     "metadata": {},
     "output_type": "execute_result"
    }
   ],
   "source": [
    "def func():\n",
    "    return\"ABRA KA\"\n",
    "func()+\" DABRA\"             # for concatenate the elements."
   ]
  },
  {
   "cell_type": "code",
   "execution_count": 4,
   "id": "13e173dc-cdc3-4797-bf1c-67ad72ffeb2b",
   "metadata": {},
   "outputs": [
    {
     "data": {
      "text/plain": [
       "8"
      ]
     },
     "execution_count": 4,
     "metadata": {},
     "output_type": "execute_result"
    }
   ],
   "source": [
    "# METHODS:\n",
    "# it is a functions that belong to a class and operate on instances of that class.\n",
    "# it is associated with objects and can modify their state.\n",
    "\n",
    "# EXAMPLE:\n",
    "def func():\n",
    "    calc=1+2+5*1\n",
    "    return calc\n",
    "func()\n"
   ]
  },
  {
   "cell_type": "code",
   "execution_count": 5,
   "id": "df10d98b-8b7b-40f7-a5d9-165caf65f291",
   "metadata": {},
   "outputs": [
    {
     "data": {
      "text/plain": [
       "100101110"
      ]
     },
     "execution_count": 5,
     "metadata": {},
     "output_type": "execute_result"
    }
   ],
   "source": [
    "def sum(a,b,c,d,e):            # a,b,c,d,e are positional agguments >> it maintains order.\n",
    "    return a+b+c+d+e\n",
    "sum(10,100,1000,100000,100000000)"
   ]
  },
  {
   "cell_type": "code",
   "execution_count": 6,
   "id": "c08b2451-89aa-4816-aa66-1818485311ec",
   "metadata": {},
   "outputs": [
    {
     "data": {
      "text/plain": [
       "'saumya'"
      ]
     },
     "execution_count": 6,
     "metadata": {},
     "output_type": "execute_result"
    }
   ],
   "source": [
    "sum('s','a','u','m','ya')       # if we want add anything, but in given no.of variiables only i.e.,here(a,b,c,d,e)only."
   ]
  },
  {
   "cell_type": "code",
   "execution_count": 1,
   "id": "f99b9332-5e36-4cdb-aed3-588e33e81f88",
   "metadata": {},
   "outputs": [
    {
     "name": "stdout",
     "output_type": "stream",
     "text": [
      "hello!saumya.. you are 20 years old\n"
     ]
    }
   ],
   "source": [
    "# Q2: Explain the concept of function arguments and parameters in Python.\n",
    "\n",
    "# PARAMETERS are variables listed in a functions definition.\n",
    "# act as placeholders for the value (arguments) that will be passed to the function when it is called.\n",
    "# they are used within the function to refer to the data ia being processed.\n",
    "\n",
    "\n",
    "# ARGUMENTS are the actual values you pass to a functiion when we call it .\n",
    "# these values are assinged to the parameters in the functiionns difinition.\n",
    "\n",
    "# EXAMPLE:\n",
    "def greetings(name,age):                    # here, name and age are refered as'parameters'.\n",
    "    print(f'hello!{name}.. you are {age} years old')\n",
    "greetings('saumya',20)                       # here, saumya and 20 are as'arguments'\n",
    "    "
   ]
  },
  {
   "cell_type": "code",
   "execution_count": 8,
   "id": "e64336fb-ea29-4910-8460-2f3ca8912973",
   "metadata": {},
   "outputs": [
    {
     "name": "stdout",
     "output_type": "stream",
     "text": [
      "hello!saumya... you are now 22 years old\n"
     ]
    }
   ],
   "source": [
    "# default parameters\n",
    "# we can also provide default values for parameters.if no arguments are provided for a parameters with a default value,\n",
    "                #the default value is used.\n",
    "    \n",
    "# EXAMPLE:\n",
    "def greet(name,age=20):\n",
    "    print(f'hello!{name}... you are now {age} years old')\n",
    "greet(age=22,name='saumya')"
   ]
  },
  {
   "cell_type": "code",
   "execution_count": 16,
   "id": "21b69e64-9a7a-4d04-bd60-a62407665b95",
   "metadata": {},
   "outputs": [
    {
     "name": "stdout",
     "output_type": "stream",
     "text": [
      "Name:SAUMYA\n",
      "Positional arguments:(22,)\n",
      "Keyword arguments:{'a': 'student', 'batch': 'pwskills'}\n"
     ]
    }
   ],
   "source": [
    "# variable length arguments\n",
    "# sometimes we don't know iin advance how many arguments will pass.python proviids special syntax fo this:\n",
    "        #      *args: for non-keyword (positional)arguments. iit collects extra positonal arguments as a tuple.\n",
    "        #      **kwargs: for keyword arguments . it collects extra keyword arguments as a dictionary.\n",
    "        \n",
    "# EXAMPLE:\n",
    "def info(name,*args,**kwargs):\n",
    "    print(f'Name:{name}')                     # as a regular parameter,\n",
    "    print(f'Positional arguments:{args}')     # agrs as a tuple,\n",
    "    print(f'Keyword arguments:{kwargs}')      # kwargs as a dictiionary(key & value)\n",
    "                                          \n",
    "info('SAUMYA',22, a='student', batch='pwskills')\n"
   ]
  },
  {
   "cell_type": "code",
   "execution_count": 11,
   "id": "42a8a121-d633-4365-8914-fa200ba672b8",
   "metadata": {},
   "outputs": [
    {
     "name": "stdout",
     "output_type": "stream",
     "text": [
      "hello,saumya!\n"
     ]
    }
   ],
   "source": [
    "# Q3:   What are the different ways to define and call a function in Python?\n",
    "# there are several ways to define and call functions, each with its own syntax and use cases.\n",
    "\n",
    "#1.  standard function definition\n",
    "\n",
    "def greet(name):                          # name is 'parameter'\n",
    "    return f'hello,{name}!'               # saumya is 'argument'\n",
    "print(greet('saumya'))"
   ]
  },
  {
   "cell_type": "code",
   "execution_count": 12,
   "id": "f32c7c0c-731f-4539-a5b3-c07ca5ff1999",
   "metadata": {},
   "outputs": [
    {
     "name": "stdout",
     "output_type": "stream",
     "text": [
      "8\n"
     ]
    }
   ],
   "source": [
    "#2. lambda fuunctions\n",
    "# lambda functions are anonymous functions defined using the lambda keyword.\n",
    "# they are typically used for short,throwaway functions.\n",
    "\n",
    "add=lambda x,y: x+y\n",
    "print(add(5,3))"
   ]
  },
  {
   "cell_type": "code",
   "execution_count": 14,
   "id": "ea8c8a4e-bd28-4dff-b874-0a6da082912a",
   "metadata": {},
   "outputs": [
    {
     "name": "stdout",
     "output_type": "stream",
     "text": [
      "10\n"
     ]
    }
   ],
   "source": [
    "#3. usind functools.partial\n",
    "# we can create a new function by fixing some arguments of an  existing functions using functools.partial.\n",
    "\n",
    "from functools import partial\n",
    "def multiply(a,b):\n",
    "    return a*b\n",
    "double=partial(multiply,b=2)\n",
    "print(double(5))"
   ]
  },
  {
   "cell_type": "code",
   "execution_count": 15,
   "id": "3198a08a-63b2-4a4b-bab5-eb146c086537",
   "metadata": {},
   "outputs": [
    {
     "data": {
      "text/plain": [
       "4"
      ]
     },
     "execution_count": 15,
     "metadata": {},
     "output_type": "execute_result"
    }
   ],
   "source": [
    "#4:  using function objects\n",
    "# functions in python are first-class objects, meaning we can assign them to variables,pass them around and return\n",
    "                  #them from other functions.\n",
    "\n",
    "def square(x):\n",
    "    return x*x\n",
    "square(2)"
   ]
  },
  {
   "cell_type": "code",
   "execution_count": 17,
   "id": "2b9c285d-081d-4ba2-b485-b15cc1059b74",
   "metadata": {},
   "outputs": [
    {
     "name": "stdout",
     "output_type": "stream",
     "text": [
      "hello,pwskills..............\n"
     ]
    }
   ],
   "source": [
    "#5. function decorators\n",
    "# decorators are a way to modify or extend the behavior of functions or methods.\n",
    "\n",
    "def greet(name):\n",
    "    return f'hello,{name}'\n",
    "print(greet('pwskills..............'))"
   ]
  },
  {
   "cell_type": "code",
   "execution_count": 18,
   "id": "dcf9aa64-95bf-4287-9cfa-60e0b98cf596",
   "metadata": {},
   "outputs": [
    {
     "name": "stdout",
     "output_type": "stream",
     "text": [
      "8\n"
     ]
    }
   ],
   "source": [
    "#6. nested functions\n",
    "# functions can be defimed inside other functions.\n",
    "\n",
    "def outer(x):\n",
    "    def inner(y):\n",
    "        return x+y\n",
    "    return inner\n",
    "add_five=outer(5)\n",
    "print(add_five(3))"
   ]
  },
  {
   "cell_type": "code",
   "execution_count": 19,
   "id": "79dabd53-5d10-4a2d-a97c-f411d430a53c",
   "metadata": {},
   "outputs": [
    {
     "name": "stdout",
     "output_type": "stream",
     "text": [
      "15\n"
     ]
    }
   ],
   "source": [
    "#7. methods in classes \n",
    "# functions defined within a class are called methods and they operates on instances of that class.\n",
    "\n",
    "class calculator:\n",
    "    def add(self,x,y):\n",
    "        return x+y\n",
    "calc=calculator()\n",
    "print(calc.add(10,5))"
   ]
  },
  {
   "cell_type": "code",
   "execution_count": 20,
   "id": "56389eaf-46c5-4a5f-b91c-93044380798a",
   "metadata": {},
   "outputs": [
    {
     "name": "stdout",
     "output_type": "stream",
     "text": [
      "8\n"
     ]
    }
   ],
   "source": [
    "#Q4:   What is the purpose of the `return` statement in a Python function?\n",
    "\n",
    "# the return statement in python function serves several important purposes:\n",
    "\n",
    "#1.  output of the function \n",
    "# the primary purpose of the return statement is to send a result back to the caller of the function.\n",
    "# when a function executes a return statement, it provides an output value that can be used elsewhere in the code.\n",
    "\n",
    "def add(a,b):\n",
    "    return a+b\n",
    "result=add(5,3)\n",
    "print(result)"
   ]
  },
  {
   "cell_type": "code",
   "execution_count": 21,
   "id": "762ce4e4-be9a-49de-b70a-e965e96ebcc0",
   "metadata": {},
   "outputs": [
    {
     "name": "stdout",
     "output_type": "stream",
     "text": [
      "negative\n",
      "positive\n"
     ]
    }
   ],
   "source": [
    "#2. termination of function\n",
    "# the return statement also serves to terminate the execution of a function. once a return statement is executed,\n",
    "# the function exists immidiately,and no further code within that function is executed .\n",
    "\n",
    "def check_number(x):\n",
    "    if x<0:\n",
    "        return'negative'\n",
    "    return'positive'\n",
    "print(check_number(-1))\n",
    "print(check_number(2))"
   ]
  },
  {
   "cell_type": "code",
   "execution_count": 22,
   "id": "57460069-4d80-4576-b62d-6e03a05ae63d",
   "metadata": {},
   "outputs": [
    {
     "name": "stdout",
     "output_type": "stream",
     "text": [
      "saumya\n",
      "22\n"
     ]
    }
   ],
   "source": [
    "#3.  returning multiple values\n",
    "# useful when we want to return several related pieces of information from a function.\n",
    "\n",
    "def user_info():\n",
    "    name='saumya'\n",
    "    age=22\n",
    "    return name,age\n",
    "user_name,user_age=user_info()\n",
    "print(user_name)\n",
    "print(user_age)"
   ]
  },
  {
   "cell_type": "code",
   "execution_count": 23,
   "id": "f94a1695-5928-4c2d-8ef1-c64febc80eef",
   "metadata": {},
   "outputs": [
    {
     "name": "stdout",
     "output_type": "stream",
     "text": [
      "1\n",
      "2\n",
      "3\n",
      "4\n",
      "5\n"
     ]
    }
   ],
   "source": [
    "#Q5:   What are iterators in Python and how do they differ from iterables?\n",
    "\n",
    "# iterable:\n",
    "# an iterable is any python object capable of returning its members one at a time, allowing it to be iterated over\n",
    "                                # in a foor loop or other iteration contexts.\n",
    "    \n",
    "numbers=[1,2,3,4,5]\n",
    "for number in numbers:\n",
    "    print(number)\n",
    "\n"
   ]
  },
  {
   "cell_type": "code",
   "execution_count": 24,
   "id": "016d4146-efc2-4025-82ab-9eb206599891",
   "metadata": {},
   "outputs": [
    {
     "name": "stdout",
     "output_type": "stream",
     "text": [
      "1\n",
      "2\n"
     ]
    }
   ],
   "source": [
    "# iterators:\n",
    "# an iterator is an object that represents a stream of data, retuurn the data one by one .\n",
    "\n",
    "numbers=iter([1,2,3,4,5])\n",
    "print(next(numbers))\n",
    "print(next(numbers))\n"
   ]
  },
  {
   "cell_type": "code",
   "execution_count": 25,
   "id": "f233bda7-1e50-4b26-9041-caf14d8bb393",
   "metadata": {},
   "outputs": [
    {
     "name": "stdout",
     "output_type": "stream",
     "text": [
      "0\n",
      "1\n",
      "4\n",
      "9\n",
      "16\n"
     ]
    }
   ],
   "source": [
    "#Q6:   Explain the concept of generators in Python and how they are defined?\n",
    "\n",
    "# GENERATORS are special type of iterator that are defined using functions but instead of using return to return a value,\n",
    "     #they are yield,when a generator function is called ,it returns an iterator object but does not start execution\n",
    "     #immediatelly,instead, it executes each time next () is called on the iterator.\n",
    "# generators are defined using functions with the yield keyword.\n",
    "\n",
    "#EXAMPLE:\n",
    "\n",
    "def sq_number(n):\n",
    "    for i in range(n):\n",
    "        yield i**2                       # use 'yield' similar to 'return'.\n",
    "for square in sq_number(5):\n",
    "    print(square)"
   ]
  },
  {
   "cell_type": "code",
   "execution_count": 26,
   "id": "23f02557-9096-4e9c-a3fb-34f6ffafcc3e",
   "metadata": {},
   "outputs": [
    {
     "name": "stdout",
     "output_type": "stream",
     "text": [
      "0\n",
      "1\n",
      "4\n",
      "9\n",
      "16\n"
     ]
    }
   ],
   "source": [
    "gen=sq_number(5)\n",
    "print(next(gen))          # next >> gives values one by one\n",
    "print(next(gen))\n",
    "print(next(gen))\n",
    "print(next(gen))\n",
    "print(next(gen))\n"
   ]
  },
  {
   "cell_type": "code",
   "execution_count": 28,
   "id": "0c118ff5-d454-49dd-96a0-88cbb4bf28f2",
   "metadata": {},
   "outputs": [
    {
     "data": {
      "text/plain": [
       "[4, 6, 8]"
      ]
     },
     "execution_count": 28,
     "metadata": {},
     "output_type": "execute_result"
    }
   ],
   "source": [
    "#Q7:   What are the advantages of using generators over regular functions?\n",
    "\n",
    "# regular function:\n",
    "#it return a complete list,it will takes more execution time if there is a lot of computation,as all the computation \n",
    "              #will be done first & then calculation wil be returned in one go.\n",
    "    \n",
    "#EXAMPLE:                     # regular function >> gives result in one go.\n",
    "\n",
    "def multiplication(a):\n",
    "    result=[]\n",
    "    for i in a:\n",
    "        result.append(i*2)\n",
    "    return result\n",
    "multiplication([2,3,4])"
   ]
  },
  {
   "cell_type": "code",
   "execution_count": 29,
   "id": "7f017f5e-a7d8-4096-b511-4cdbf31a3fe7",
   "metadata": {},
   "outputs": [
    {
     "name": "stdout",
     "output_type": "stream",
     "text": [
      "4\n",
      "6\n",
      "8\n"
     ]
    }
   ],
   "source": [
    "# generator function:\n",
    "# it is useful for processing large datasets or streams of data, produce values one at a time and only when requested.\n",
    "# generators yield values one at a time, they dont need to store the entire sequence in memory.\n",
    "# they are cleaner and more readeble code for certain tasks.i.e, for large datas.\n",
    "\n",
    "#EXAMPLE:                     # generator function >> generate result one by one insteed of one go.\n",
    "\n",
    "def multiplication(a):\n",
    "    for i in a:\n",
    "        yield i*2\n",
    "multiplication([2,3,4])\n",
    "gen=multiplication([2,3,4])\n",
    "print(next(gen))\n",
    "print(next(gen))\n",
    "print(next(gen))\n"
   ]
  },
  {
   "cell_type": "code",
   "execution_count": 1,
   "id": "680c78d9-a8d3-4231-a8a8-dad3416ec50b",
   "metadata": {},
   "outputs": [
    {
     "data": {
      "text/plain": [
       "4"
      ]
     },
     "execution_count": 1,
     "metadata": {},
     "output_type": "execute_result"
    }
   ],
   "source": [
    "#Q8:  What is a lambda function in Python and when is it typically used?\n",
    "# LAMBDA FUNCTIONS >>anonymous functions/sorthand code,defined using the lambda keyword.\n",
    "# they are typically used for short,throwaway operation.\n",
    "#SYNTAX >>\n",
    "# lambda argument: expression >> no need of return statement & def keyword.\n",
    "\n",
    "#EXAMPLE:\n",
    "a=lambda x: x**2               # 'lambda' is python keyword,   'x' is argument,   'x**2' is expression.\n",
    "a(2)"
   ]
  },
  {
   "cell_type": "code",
   "execution_count": 2,
   "id": "2f9a04fd-a6ec-430d-98d9-019df9cc8971",
   "metadata": {},
   "outputs": [
    {
     "data": {
      "text/plain": [
       "618"
      ]
     },
     "execution_count": 2,
     "metadata": {},
     "output_type": "execute_result"
    }
   ],
   "source": [
    "add=lambda a,b,c,d: a+b+c+d            # adding the values\n",
    "add(16,543,54,5)"
   ]
  },
  {
   "cell_type": "code",
   "execution_count": 3,
   "id": "a0eae44c-ee65-4b57-ab61-7e305bb66b36",
   "metadata": {},
   "outputs": [
    {
     "data": {
      "text/plain": [
       "['kesarwani', 'saumya']"
      ]
     },
     "execution_count": 3,
     "metadata": {},
     "output_type": "execute_result"
    }
   ],
   "source": [
    "lis=['saumya','kesarwani']             # if we want alphabatical order\n",
    "sorted(lis)"
   ]
  },
  {
   "cell_type": "code",
   "execution_count": 5,
   "id": "a3a01b21-f3c0-4688-b2b3-7947aedf3cc1",
   "metadata": {},
   "outputs": [
    {
     "data": {
      "text/plain": [
       "['saumya', 'kesarwani']"
      ]
     },
     "execution_count": 5,
     "metadata": {},
     "output_type": "execute_result"
    }
   ],
   "source": [
    "sorted(lis,key=lambda lis: len(lis))     # if we want in ascending order"
   ]
  },
  {
   "cell_type": "code",
   "execution_count": 6,
   "id": "92ccc458-93c8-4de0-9fde-c4fc5cd63866",
   "metadata": {},
   "outputs": [
    {
     "data": {
      "text/plain": [
       "[0, 1, 1, 2, 3, 5, 8, 13, 21, 34]"
      ]
     },
     "execution_count": 6,
     "metadata": {},
     "output_type": "execute_result"
    }
   ],
   "source": [
    "# using  FIBONACCI SERIES:\n",
    "\n",
    "fib=lambda n:n if n<=1 else fib(n-1)+fib(n-2)\n",
    "[fib(i)for i in range(10)]"
   ]
  },
  {
   "cell_type": "code",
   "execution_count": 7,
   "id": "dc57e835-b362-4444-ac57-37209bcecc29",
   "metadata": {},
   "outputs": [
    {
     "name": "stdout",
     "output_type": "stream",
     "text": [
      "[1, 4, 9, 16, 25]\n"
     ]
    }
   ],
   "source": [
    "#Q9:  Explain the purpose and usage of the `map()` function in Python?\n",
    "# the map function in python is a built-in function used for applying function to each iten in an iterable\n",
    "           #(like a list or a tuple) and returning a map object (an iterator) of the results\n",
    "# it is usefull tool for transformiing data in a functional programming style\n",
    "\n",
    "# purpose:\n",
    "# to apply a specific operation or transformation to each element of an iterable,producing a new iterable with the transformed \n",
    "            #elements.this is particularlyuseful for concise,element-wise operations.\n",
    "\n",
    "#EXAMPLE:\n",
    "#SYNTAX >> map(func,*iterables)\n",
    "numbers=[1,2,3,4,5]\n",
    "squared_numbers= map(lambda x: x**2,numbers)\n",
    "print(list(squared_numbers))\n",
    "       "
   ]
  },
  {
   "cell_type": "code",
   "execution_count": 8,
   "id": "69e3a983-2321-43e7-af67-770a3fd17a1c",
   "metadata": {},
   "outputs": [
    {
     "name": "stdout",
     "output_type": "stream",
     "text": [
      "[5, 7, 9]\n"
     ]
    }
   ],
   "source": [
    "list1=[1,2,3]\n",
    "list2=[4,5,6]\n",
    "def add(x,y):\n",
    "    return x+y\n",
    "\n",
    "result= map(add,list1,list2)\n",
    "print(list(result))"
   ]
  },
  {
   "cell_type": "code",
   "execution_count": 10,
   "id": "edee3cf9-6656-4cad-8bfb-907dd5c74de9",
   "metadata": {},
   "outputs": [
    {
     "data": {
      "text/plain": [
       "[1, 4, 9, 16]"
      ]
     },
     "execution_count": 10,
     "metadata": {},
     "output_type": "execute_result"
    }
   ],
   "source": [
    "#Q10:   What is the difference between `map()`, `reduce()`, and `filter()` functions in Python?\n",
    "\n",
    "# map(): appplies a given function to each item of an iterable (or multiple ierables) and returns a map object(an iterator)\n",
    "                 # of the results.\n",
    "    \n",
    "    #syntax >> map(func, iterable)\n",
    "    #returns: an iterator over the results of applying the function to each element.\n",
    "    \n",
    "#EXAMPLE:\n",
    "lis=[1,2,3,4]\n",
    "def sq(l):\n",
    "    return l**2\n",
    "list(map(sq,lis))"
   ]
  },
  {
   "cell_type": "code",
   "execution_count": 11,
   "id": "ddf2d49b-bd07-4da3-a3c3-fe4a01494d55",
   "metadata": {},
   "outputs": [
    {
     "data": {
      "text/plain": [
       "[1, 4, 9, 16]"
      ]
     },
     "execution_count": 11,
     "metadata": {},
     "output_type": "execute_result"
    }
   ],
   "source": [
    "list(map(lambda l : l**2,lis))"
   ]
  },
  {
   "cell_type": "code",
   "execution_count": 20,
   "id": "f99f4368-2819-4b62-a7af-a0267e8c6e2b",
   "metadata": {},
   "outputs": [
    {
     "name": "stdout",
     "output_type": "stream",
     "text": [
      "20\n"
     ]
    }
   ],
   "source": [
    "                          # PRACTICAL QUESRIONS:\n",
    "    \n",
    "#Q1:  Write a Python function that takes a list of numbers as input and returns the sum of all even numbers in the list?\n",
    "\n",
    "def sum_of_even_numbers(numbers):\n",
    "    sum = 0                      # initialise the sum to 0\n",
    "    for i in numbers:            # iterate through each number in the list                            \n",
    "        if i%2==0:           # check if the number is even                             \n",
    "            sum=sum+i           # add the even number to the sum \n",
    "    return sum \n",
    "\n",
    "numbers = [1, 2, 3, 4, 5, 6, 7, 8]      \n",
    "print(result)                       # OUTPUT >> (2+4+6+8):20"
   ]
  },
  {
   "cell_type": "code",
   "execution_count": 21,
   "id": "199fd152-6282-4941-9925-5f6d6d1e96a0",
   "metadata": {},
   "outputs": [
    {
     "name": "stdout",
     "output_type": "stream",
     "text": [
      "aymuas\n"
     ]
    }
   ],
   "source": [
    "# Q2:  Create a Python function that accepts a string and returns the reverse of that string?\n",
    "\n",
    "def reverse_string(s):\n",
    "    # Return the reversed string using slicing\n",
    "    return s[::-1]\n",
    "\n",
    "# Example:\n",
    "name= \"saumya\"\n",
    "print(reversed_name)                     # Output will be \"aymuas\""
   ]
  },
  {
   "cell_type": "code",
   "execution_count": 1,
   "id": "3f4028bc-9965-491b-a84c-2154c620781c",
   "metadata": {},
   "outputs": [
    {
     "name": "stdout",
     "output_type": "stream",
     "text": [
      "[1, 4, 9, 16, 25, 36, 49, 64, 81]\n"
     ]
    }
   ],
   "source": [
    "# Q3:  Implement a Python function that takes a list of integers and returns a new list containing the squares of each number?\n",
    "\n",
    "def square(lis):\n",
    "    l=[]\n",
    "    for i in lis:\n",
    "        l.append(i*i)\n",
    "    return l\n",
    "lis=[1,2,3,4,5,6,7,8,9]         # define the list before calling the function\n",
    "print(square(lis))"
   ]
  },
  {
   "cell_type": "code",
   "execution_count": 7,
   "id": "e86ce851-3670-4332-a8c6-66f8a01ef26b",
   "metadata": {},
   "outputs": [
    {
     "name": "stdout",
     "output_type": "stream",
     "text": [
      "[2, 3, 5, 7, 11, 13, 17, 19, 23, 29, 31, 37, 41, 43, 47, 53, 59, 61, 67, 71, 73, 79, 83, 89, 97, 101, 103, 107, 109, 113, 127, 131, 137, 139, 149, 151, 157, 163, 167, 173, 179, 181, 191, 193, 197, 199]\n"
     ]
    }
   ],
   "source": [
    "# Q4:  Write a Python function that checks if a given number is prime or not from 1 to 200?\n",
    "\n",
    "def is_prime(n):\n",
    "    if n<2:\n",
    "        return False\n",
    "    for i in range(2,n//2+1):\n",
    "        if n%i==0:\n",
    "            return False\n",
    "    return True\n",
    "def find_primes_upto_200():\n",
    "    primes=[]\n",
    "    for num in range(201):\n",
    "        if is_prime(num):\n",
    "            primes.append(num)\n",
    "    return primes\n",
    "prime_numbers=find_primes_upto_200()\n",
    "print(prime_numbers)\n",
    "    "
   ]
  },
  {
   "cell_type": "code",
   "execution_count": 15,
   "id": "89bf5eb5-bc9b-4f4a-a398-234d929e30d3",
   "metadata": {},
   "outputs": [
    {
     "data": {
      "text/plain": [
       "<generator object fib at 0x7a1706fa23b0>"
      ]
     },
     "execution_count": 15,
     "metadata": {},
     "output_type": "execute_result"
    }
   ],
   "source": [
    "# Q5:  Create an iterator class in Python that generates the Fibonacci sequence up to a specified number of terms?\n",
    "\n",
    "def fib(n):\n",
    "    a=0\n",
    "    b=1\n",
    "    for i in range (n):    # if n=5,0,1,2,3,4\n",
    "        yield a \n",
    "        a,b=b,a+b\n",
    "f=fib(100000)\n",
    "f\n"
   ]
  },
  {
   "cell_type": "code",
   "execution_count": 16,
   "id": "dc1eda08-ed67-4e26-8ef3-cf9f32d3a4b9",
   "metadata": {},
   "outputs": [
    {
     "name": "stdout",
     "output_type": "stream",
     "text": [
      "0\n",
      "1\n",
      "1\n",
      "2\n",
      "3\n",
      "5\n",
      "8\n",
      "13\n"
     ]
    }
   ],
   "source": [
    "print(next(f))\n",
    "print(next(f))\n",
    "print(next(f))\n",
    "print(next(f))\n",
    "print(next(f))\n",
    "print(next(f))\n",
    "print(next(f))\n",
    "print(next(f))"
   ]
  },
  {
   "cell_type": "code",
   "execution_count": 10,
   "id": "279f60c4-cd37-4cd7-9ab0-db5bd8b0e70e",
   "metadata": {},
   "outputs": [
    {
     "name": "stdout",
     "output_type": "stream",
     "text": [
      "1\n",
      "2\n",
      "4\n",
      "8\n",
      "16\n",
      "32\n",
      "64\n",
      "128\n"
     ]
    }
   ],
   "source": [
    "# Q6:  Write a generator function in Python that yields the powers of 2 up to a given exponent?\n",
    "\n",
    "def powers_of_two(exponent):\n",
    "    for i in range(exponent+1):\n",
    "        yield 2**i\n",
    "        \n",
    "for power in powers_of_two(7):\n",
    "    print(power)"
   ]
  },
  {
   "cell_type": "code",
   "execution_count": 1,
   "id": "5dacccd8-faed-42b1-9e4f-af4e46a5eafc",
   "metadata": {},
   "outputs": [],
   "source": [
    "# Q7:  Implement a generator function that reads a file line by line and yields each line as a string?\n",
    "\n",
    "file=open('file.txt','w')\n",
    "file.write('this is my first line\\n')\n",
    "file.write('this is my second line\\n')\n",
    "file.write('this is my third line\\n')\n",
    "file.write('this is my fourth line\\n')\n",
    "file.write('this is my fifth line\\n')\n",
    "file.close()"
   ]
  },
  {
   "cell_type": "code",
   "execution_count": 2,
   "id": "679efefa-b3d8-4cd2-bc78-c9ba0c5fc6d3",
   "metadata": {},
   "outputs": [
    {
     "name": "stdout",
     "output_type": "stream",
     "text": [
      "this is my first line\n",
      "this is my second line\n",
      "this is my third line\n",
      "this is my fourth line\n",
      "this is my fifth line\n"
     ]
    }
   ],
   "source": [
    "def read_file_line_by_line(file_path):\n",
    "    with open(file_path,'r') as file:\n",
    "        for line in file:\n",
    "            yield line.rstrip('\\n')\n",
    "\n",
    "file_path='file.txt'\n",
    "for line in read_file_line_by_line(file_path):\n",
    "    print(line)"
   ]
  },
  {
   "cell_type": "code",
   "execution_count": 3,
   "id": "d7b47538-d3b9-4c43-a24a-db4180bb52f3",
   "metadata": {},
   "outputs": [
    {
     "name": "stdout",
     "output_type": "stream",
     "text": [
      "[(3, 'anjali'), (2, 'babita'), (1, 'saumya')]\n"
     ]
    }
   ],
   "source": [
    "# Q8:  Use a lambda function in Python to sort a list of tuples based on the second element of each tuple?\n",
    "\n",
    "tuples_list=[(1,'saumya'),(2,'babita'),(3,'anjali')]        # list of tuples\n",
    "sorted_list=sorted(tuples_list,key=lambda x:x[1])           # sorting using sorted() with lambda function\n",
    "print(sorted_list)"
   ]
  },
  {
   "cell_type": "code",
   "execution_count": 4,
   "id": "b78d610f-c1b8-4bcd-be69-c17fee8726e4",
   "metadata": {},
   "outputs": [
    {
     "name": "stdout",
     "output_type": "stream",
     "text": [
      "celsius temperatures: [0, 10, 20, 30, 40, 50, 60, 100]\n",
      "fahrenheit temperatures: [32.0, 50.0, 68.0, 86.0, 104.0, 122.0, 140.0, 212.0]\n"
     ]
    }
   ],
   "source": [
    "# Q9:   Write a Python program that uses `map()` to convert a list of temperatures from Celsius to Fahrenheit?\n",
    "\n",
    "# list of temperature in celcius\n",
    "celsius_temp=[0,10,20,30,40,50,60,100]\n",
    "\n",
    "# convert celsius to fahrenheit using map() and lambda function\n",
    "fahrenheit_temp=list(map(lambda c:c*9/5+32 ,celsius_temp))\n",
    "\n",
    "#print the converted temperatures\n",
    "print('celsius temperatures:' ,celsius_temp)\n",
    "print('fahrenheit temperatures:' ,fahrenheit_temp)"
   ]
  },
  {
   "cell_type": "code",
   "execution_count": 8,
   "id": "76658158-f294-4c32-b305-85d0f83cd462",
   "metadata": {},
   "outputs": [
    {
     "name": "stdout",
     "output_type": "stream",
     "text": [
      "original string:--- hello! world ,this is a test string......\n",
      "string wiithout vowels:--- hll! wrld ,ths s  tst strng......\n"
     ]
    }
   ],
   "source": [
    "# Q10:  Create a Python program that uses `filter()` to remove all the vowels from a given string?\n",
    "\n",
    "def remove_vowels(s):\n",
    "    vowels='AEIIOUaeiou'\n",
    "    return ''.join(filter(lambda char: char not in vowels ,s))\n",
    "\n",
    "s='hello! world ,this is a test string......'\n",
    "result_string=remove_vowels(s)\n",
    "print('original string:---' ,s)\n",
    "print('string wiithout vowels:---' ,result_string)\n"
   ]
  },
  {
   "cell_type": "code",
   "execution_count": 9,
   "id": "1cb66671-4934-4d90-b055-56bc6731b794",
   "metadata": {},
   "outputs": [],
   "source": [
    "# Q11:  Imagine an accounting routine used in a book shop. It works on a list with sublists, which look like this:\n",
    "#Write a Python program, which returns a list with 2-tuples. Each tuple consists of the order number and the\n",
    "#product of the price per item and the quantity. The product should be increased by 10,- € if the value of theorder\n",
    "#is smaller than 100,00 €. write a pythonn program using labda and map."
   ]
  },
  {
   "cell_type": "code",
   "execution_count": 13,
   "id": "28bb7071-5ffa-411a-bb73-10e130312d76",
   "metadata": {},
   "outputs": [
    {
     "name": "stdout",
     "output_type": "stream",
     "text": [
      "[(34587, 55.0), (98762, 179.0), (77226, 75.0), (88112, 55.0)]\n"
     ]
    }
   ],
   "source": [
    "# list of orders,each order is a sublist in the format[order_number, price_per_item, quantity]\n",
    "orders= [\n",
    "    [34587, 4.50, 10],         # example: order number 34587, price 4.50 per item, quantity 10\n",
    "    [98762, 8.95, 20],         # example: order number 98762, price 8.95 per item, quantity 20\n",
    "    [77226, 13.00, 5],         # example: order number 77226, price 13.00 per item, quantity 5\n",
    "    [88112, 1.50, 30]         # example: order number 88112, price 1.50 per item, quantity 30\n",
    "]\n",
    "  \n",
    "# lambda function to compute the total cost of an order\n",
    "compute_cost=lambda order:(order[0], order[1]*order[2] if order[1]*order[2]>=100 else order[1]*order[2]+10)\n",
    "\n",
    "# using map() to apply the lambda function to each other\n",
    "order_totals=list(map(compute_cost ,orders))\n",
    "print(order_totals)\n",
    "\n"
   ]
  },
  {
   "cell_type": "code",
   "execution_count": null,
   "id": "e0380b79-b46e-43ef-a8f5-c2d6217566c1",
   "metadata": {},
   "outputs": [],
   "source": [
    "\n"
   ]
  },
  {
   "cell_type": "code",
   "execution_count": null,
   "id": "38e05df9-5d10-4aaf-ae82-ebbd3fc9e2d6",
   "metadata": {},
   "outputs": [],
   "source": []
  },
  {
   "cell_type": "code",
   "execution_count": null,
   "id": "712e386e-61c1-42b3-9785-ff3c4930fd40",
   "metadata": {},
   "outputs": [],
   "source": []
  }
 ],
 "metadata": {
  "kernelspec": {
   "display_name": "Python 3 (ipykernel)",
   "language": "python",
   "name": "python3"
  },
  "language_info": {
   "codemirror_mode": {
    "name": "ipython",
    "version": 3
   },
   "file_extension": ".py",
   "mimetype": "text/x-python",
   "name": "python",
   "nbconvert_exporter": "python",
   "pygments_lexer": "ipython3",
   "version": "3.10.8"
  }
 },
 "nbformat": 4,
 "nbformat_minor": 5
}
